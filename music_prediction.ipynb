{
 "cells": [
  {
   "cell_type": "code",
   "execution_count": 54,
   "metadata": {
    "scrolled": true
   },
   "outputs": [
    {
     "data": {
      "text/plain": [
       "1.0"
      ]
     },
     "execution_count": 54,
     "metadata": {},
     "output_type": "execute_result"
    }
   ],
   "source": [
    "import pandas as pd\n",
    "from sklearn.tree import DecisionTreeClassifier \n",
    "from sklearn.model_selection import train_test_split\n",
    "from sklearn.metrics import accuracy_score\n",
    "import joblib\n",
    "from sklearn import tree\n",
    "\n",
    "# music = pd.read_csv('music.csv')\n",
    "# x = music.drop(columns=['genre'])\n",
    "# y = music['genre']\n",
    "# x_train,x_test,y_train,y_test=train_test_split(x,y,test_size=0.10)\n",
    "# model = DecisionTreeClassifier()\n",
    "# model.fit(x_train,y_train)\n",
    "model = joblib.load('music-prediction.joblib')\n",
    "model_pred = model.predict(x_test)\n",
    "model_pred\n",
    "tree.export_graphviz(model, out_file='music-tree.dot',feature_names=['age','gender'], class_names=sorted(y.unique()),label='all',rounded=True, filled=True)\n",
    "score= accuracy_score(y_test, model_pred)\n",
    "score\n"
   ]
  },
  {
   "cell_type": "code",
   "execution_count": null,
   "metadata": {},
   "outputs": [],
   "source": []
  }
 ],
 "metadata": {
  "kernelspec": {
   "display_name": "Python 3",
   "language": "python",
   "name": "python3"
  },
  "language_info": {
   "codemirror_mode": {
    "name": "ipython",
    "version": 3
   },
   "file_extension": ".py",
   "mimetype": "text/x-python",
   "name": "python",
   "nbconvert_exporter": "python",
   "pygments_lexer": "ipython3",
   "version": "3.8.5"
  }
 },
 "nbformat": 4,
 "nbformat_minor": 4
}
